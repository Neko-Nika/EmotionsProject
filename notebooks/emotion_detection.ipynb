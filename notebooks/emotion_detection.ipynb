{
 "cells": [
  {
   "cell_type": "markdown",
   "metadata": {},
   "source": [
    "# Emotion detection on video file\n",
    "\n",
    "https://www.youtube.com/watch?v=44elcDAJWyo"
   ]
  },
  {
   "cell_type": "markdown",
   "metadata": {},
   "source": [
    "### Imports"
   ]
  },
  {
   "cell_type": "code",
   "execution_count": 33,
   "metadata": {},
   "outputs": [],
   "source": [
    "from collections import defaultdict\n",
    "import cv2\n",
    "from PIL import Image\n",
    "import matplotlib.pyplot as plt\n",
    "\n",
    "import torch\n",
    "from torchvision import transforms\n",
    "from ultralytics import YOLO\n",
    "\n",
    "from emotions_utils import IDX_TO_CLASS"
   ]
  },
  {
   "cell_type": "code",
   "execution_count": 2,
   "metadata": {},
   "outputs": [],
   "source": [
    "VIDEO_PATH = \"emotions_video.mp4\"\n",
    "EMOTION_MODEL_PATH = \"emotion_model.pth\"\n",
    "FRAME_SIZE = 640"
   ]
  },
  {
   "cell_type": "markdown",
   "metadata": {},
   "source": [
    "Face detection"
   ]
  },
  {
   "cell_type": "code",
   "execution_count": 3,
   "metadata": {},
   "outputs": [],
   "source": [
    "from DDAMFN.networks.DDAM import DDAMNet\n",
    "\n",
    "classification_model = DDAMNet(pretrained=False)\n",
    "checkpoint = torch.load(EMOTION_MODEL_PATH)\n",
    "classification_model.load_state_dict(checkpoint['model_state_dict'])\n",
    "classification_model.eval()\n",
    "classification_model = classification_model.to(\"cuda\")"
   ]
  },
  {
   "cell_type": "code",
   "execution_count": 4,
   "metadata": {},
   "outputs": [],
   "source": [
    "classification_transforms=transforms.Compose([\n",
    "        transforms.Resize((112, 112)),\n",
    "        transforms.ToTensor(),\n",
    "        transforms.Normalize(mean=[0.485, 0.456, 0.406],\n",
    "                                 std=[0.229, 0.224, 0.225])])\n",
    "\n",
    "softmax = torch.nn.Softmax(1)\n",
    "\n",
    "def classify_emotions(frame):\n",
    "    frame = classification_transforms(frame).to(\"cuda\")\n",
    "    emotions = classification_model(frame[None, :])[0].detach().cpu()\n",
    "    return softmax(emotions)"
   ]
  },
  {
   "cell_type": "markdown",
   "metadata": {},
   "source": [
    "source: https://github.com/akanametov/yolov8-face"
   ]
  },
  {
   "cell_type": "code",
   "execution_count": 29,
   "metadata": {},
   "outputs": [],
   "source": [
    "detection_model = YOLO(\"yolov8n-face.pt\")\n",
    "detection_model = detection_model.to(\"cuda\")"
   ]
  },
  {
   "cell_type": "code",
   "execution_count": 30,
   "metadata": {},
   "outputs": [],
   "source": [
    "def detect_faces(frame, verbose=False):\n",
    "    return detection_model.track(frame, conf=0.5, verbose=verbose)"
   ]
  },
  {
   "cell_type": "markdown",
   "metadata": {},
   "source": [
    "Main algorithm"
   ]
  },
  {
   "cell_type": "code",
   "execution_count": 31,
   "metadata": {},
   "outputs": [],
   "source": [
    "FONT = cv2.FONT_HERSHEY_SIMPLEX\n",
    "FONT_SCALE = 1\n",
    "COLOR = (0, 0, 255)\n",
    "THICKNESS = 2 "
   ]
  },
  {
   "cell_type": "code",
   "execution_count": 34,
   "metadata": {},
   "outputs": [],
   "source": [
    "cam = cv2.VideoCapture(VIDEO_PATH)\n",
    "\n",
    "if not cam.isOpened():\n",
    "    raise Exception(\"Can not read input\")\n",
    "\n",
    "INITIAL_RES = (int(cam.get(3)), int(cam.get(4)))\n",
    "FPS = cam.get(cv2.CAP_PROP_FPS)\n",
    "FPS_COUNT = cam.get(cv2.CAP_PROP_FRAME_COUNT)\n",
    "fourcc =  cv2.VideoWriter_fourcc(*'XVID')\n",
    "writer = cv2.VideoWriter('output.avi', fourcc, FPS, INITIAL_RES)"
   ]
  },
  {
   "cell_type": "code",
   "execution_count": 35,
   "metadata": {},
   "outputs": [],
   "source": [
    "frame_count = 0\n",
    "track_history = defaultdict(lambda: [])\n",
    "\n",
    "while True:\n",
    "    success, frame = cam.read()\n",
    "    if not success:\n",
    "        raise Exception(\"Error during reading the frames\")\n",
    "    \n",
    "    frame_count += 1\n",
    "    if frame_count == FPS_COUNT:\n",
    "        break\n",
    "    \n",
    "    frame = cv2.resize(frame, (FRAME_SIZE, FRAME_SIZE))\n",
    "\n",
    "    faces = detect_faces(frame, verbose=False)[0]\n",
    "    for bbox in faces.boxes:\n",
    "        center_x, center_y, _, _ = bbox.xywh[0]\n",
    "        track_id = bbox.id.int().item()\n",
    "        track = track_history[track_id]\n",
    "        track.append((center_x, center_y))\n",
    "        if len(track) > FPS:\n",
    "            track.pop(0) \n",
    "\n",
    "        x1, y1, x2, y2 = bbox.xyxy[0]\n",
    "        x1, y1, x2, y2 = int(x1), int(y1), int(x2), int(y2)\n",
    "        h, w = y2 - y1, x2 - x1\n",
    "\n",
    "        rgb = cv2.cvtColor(frame, cv2.COLOR_BGR2RGB)\n",
    "        region_of_interest = Image.fromarray(rgb[y1:y1+h, x1:x1+w])\n",
    "        emotions = classify_emotions(region_of_interest)\n",
    "        predicted_emotion = emotions.argmax().item()\n",
    "\n",
    "        distribution = {idx: value for idx, value in enumerate(emotions.flatten())}\n",
    "        distribution = {k: v.item() for k, v in sorted(distribution.items(), key=lambda x: x[1], reverse=True)}\n",
    "\n",
    "        cv2.rectangle(frame, (x1, y1), (x2, y2), (255, 0, 0))\n",
    "        cv2.putText(frame, IDX_TO_CLASS[predicted_emotion],\n",
    "                    (x1, y1), FONT, FONT_SCALE, COLOR, THICKNESS)\n",
    "        \n",
    "    frame = cv2.resize(frame, INITIAL_RES)\n",
    "\n",
    "    writer.write(frame)\n",
    "    cv2.imshow(\"Camera video\", frame)\n",
    "    if cv2.waitKey(1) == ord(\"q\"):\n",
    "        break\n",
    "\n",
    "writer.release()\n",
    "cam.release()\n",
    "cv2.destroyAllWindows()"
   ]
  },
  {
   "cell_type": "code",
   "execution_count": null,
   "metadata": {},
   "outputs": [],
   "source": []
  }
 ],
 "metadata": {
  "kernelspec": {
   "display_name": "venv",
   "language": "python",
   "name": "python3"
  },
  "language_info": {
   "codemirror_mode": {
    "name": "ipython",
    "version": 3
   },
   "file_extension": ".py",
   "mimetype": "text/x-python",
   "name": "python",
   "nbconvert_exporter": "python",
   "pygments_lexer": "ipython3",
   "version": "3.10.11"
  }
 },
 "nbformat": 4,
 "nbformat_minor": 2
}
