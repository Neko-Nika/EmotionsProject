{
 "cells": [
  {
   "cell_type": "markdown",
   "metadata": {},
   "source": [
    "# Emotion detection on video file\n",
    "\n",
    "https://www.youtube.com/watch?v=44elcDAJWyo"
   ]
  },
  {
   "cell_type": "markdown",
   "metadata": {},
   "source": [
    "### Imports"
   ]
  },
  {
   "cell_type": "code",
   "execution_count": 36,
   "metadata": {},
   "outputs": [],
   "source": [
    "import os\n",
    "import cv2\n",
    "from PIL import Image\n",
    "import matplotlib.pyplot as plt\n",
    "\n",
    "import torch\n",
    "from ultralytics import YOLO\n",
    "\n",
    "from emotions_utils import inf_transforms"
   ]
  },
  {
   "cell_type": "code",
   "execution_count": 2,
   "metadata": {},
   "outputs": [],
   "source": [
    "VIDEO_PATH = \"emotions_video.mp4\"\n",
    "FRAME_SIZE = 640"
   ]
  },
  {
   "cell_type": "markdown",
   "metadata": {},
   "source": [
    "Face detection"
   ]
  },
  {
   "cell_type": "markdown",
   "metadata": {},
   "source": [
    "source: https://github.com/akanametov/yolov8-face"
   ]
  },
  {
   "cell_type": "code",
   "execution_count": null,
   "metadata": {},
   "outputs": [],
   "source": [
    "detection_model = YOLO(\"yolov8n-face.pt\")\n",
    "detection_model = detection_model.to(\"cuda\")"
   ]
  },
  {
   "cell_type": "code",
   "execution_count": 29,
   "metadata": {},
   "outputs": [],
   "source": [
    "def detect_faces(frame, verbose=False):\n",
    "    return detection_model.predict(frame, conf=0.5, verbose=verbose)"
   ]
  },
  {
   "cell_type": "markdown",
   "metadata": {},
   "source": [
    "Create camera"
   ]
  },
  {
   "cell_type": "code",
   "execution_count": 79,
   "metadata": {},
   "outputs": [],
   "source": [
    "cam = cv2.VideoCapture(VIDEO_PATH)\n",
    "\n",
    "if not cam.isOpened():\n",
    "    raise Exception(\"Can not read input\")"
   ]
  },
  {
   "cell_type": "markdown",
   "metadata": {},
   "source": [
    "Main algorithm"
   ]
  },
  {
   "cell_type": "code",
   "execution_count": 80,
   "metadata": {},
   "outputs": [],
   "source": [
    "while True:\n",
    "    success, frame = cam.read()\n",
    "    if not success:\n",
    "        raise Exception(\"Error during reading the frames\")\n",
    "    \n",
    "    frame = cv2.resize(frame, (FRAME_SIZE, FRAME_SIZE))\n",
    "    image_rgb = cv2.cvtColor(frame, cv2.COLOR_BGR2RGB)\n",
    "\n",
    "    faces = detect_faces(frame, verbose=False)[0]\n",
    "    for bbox in faces.boxes:\n",
    "        x1, y1, x2, y2 = bbox.xyxy[0]\n",
    "        x1, y1, x2, y2 = int(x1), int(y1), int(x2), int(y2)\n",
    "        h, w = y2 - y1, x2 - x1\n",
    "        region_of_interest = image_rgb[y1:y1+h, x1:x1+w]\n",
    "        Image.fromarray(region_of_interest)\n",
    "        cv2.rectangle(frame, (x1, y1), (x2, y2), (255, 0, 0))\n",
    "\n",
    "    cv2.imshow(\"Camera video\", frame)\n",
    "    if cv2.waitKey(1) == ord(\"q\"):\n",
    "        break\n",
    "\n",
    "cam.release()\n",
    "cv2.destroyAllWindows()"
   ]
  },
  {
   "cell_type": "code",
   "execution_count": null,
   "metadata": {},
   "outputs": [],
   "source": []
  }
 ],
 "metadata": {
  "kernelspec": {
   "display_name": "venv",
   "language": "python",
   "name": "python3"
  },
  "language_info": {
   "codemirror_mode": {
    "name": "ipython",
    "version": 3
   },
   "file_extension": ".py",
   "mimetype": "text/x-python",
   "name": "python",
   "nbconvert_exporter": "python",
   "pygments_lexer": "ipython3",
   "version": "3.10.11"
  }
 },
 "nbformat": 4,
 "nbformat_minor": 2
}
