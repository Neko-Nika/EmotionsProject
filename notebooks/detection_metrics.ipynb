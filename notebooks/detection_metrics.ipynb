{
 "cells": [
  {
   "cell_type": "code",
   "execution_count": null,
   "metadata": {},
   "outputs": [],
   "source": [
    "!pip install roboflow"
   ]
  },
  {
   "cell_type": "code",
   "execution_count": 1,
   "metadata": {},
   "outputs": [],
   "source": [
    "import torch\n",
    "from ultralytics import YOLO"
   ]
  },
  {
   "cell_type": "code",
   "execution_count": null,
   "metadata": {},
   "outputs": [],
   "source": [
    "from roboflow import Roboflow\n",
    "rf = Roboflow(api_key=\"<API_KEY>\")\n",
    "project = rf.workspace(\"<WORKSPACE_NAME>\").project(\"<PROJECT_NAME>\")\n",
    "version = project.version(2)\n",
    "dataset = version.download(\"yolov8\")"
   ]
  },
  {
   "cell_type": "code",
   "execution_count": null,
   "metadata": {},
   "outputs": [],
   "source": [
    "weights = [\n",
    "    \"yolov8m-face.pt\",\n",
    "    \"yolov8n-face.pt\",\n",
    "    \"yolov8l-face.pt\",\n",
    "    \"yolov5m-face.pt\",\n",
    "    \"yolov5n-face.pt\",\n",
    "    \"yolov5l-face.pt\",\n",
    "    \"yolov8l-face.engine\",\n",
    "]\n",
    "\n",
    "for weight in weights:\n",
    "    detection_model = YOLO(weight)\n",
    "    detection_model = detection_model.to(\"cuda\")\n",
    "\n",
    "    metrics = detection_model.val(data=\"Faces-Detection-2/data.yaml\")\n",
    "    print(metrics.box.map50)\n",
    "    print(metrics.box.map75)\n",
    "    print(metrics.box.map)"
   ]
  },
  {
   "cell_type": "code",
   "execution_count": 12,
   "metadata": {},
   "outputs": [
    {
     "data": {
      "text/plain": [
       "(0.9856793261798135, 0.8364813297963953, 0.6537393275038478)"
      ]
     },
     "execution_count": 12,
     "metadata": {},
     "output_type": "execute_result"
    }
   ],
   "source": [
    "metrics.box.map50, metrics.box.map75, metrics.box.map"
   ]
  },
  {
   "cell_type": "code",
   "execution_count": 3,
   "metadata": {},
   "outputs": [
    {
     "data": {
      "text/html": [
       "<div>\n",
       "<style scoped>\n",
       "    .dataframe tbody tr th:only-of-type {\n",
       "        vertical-align: middle;\n",
       "    }\n",
       "\n",
       "    .dataframe tbody tr th {\n",
       "        vertical-align: top;\n",
       "    }\n",
       "\n",
       "    .dataframe thead th {\n",
       "        text-align: right;\n",
       "    }\n",
       "</style>\n",
       "<table border=\"1\" class=\"dataframe\">\n",
       "  <thead>\n",
       "    <tr style=\"text-align: right;\">\n",
       "      <th></th>\n",
       "      <th>map@50</th>\n",
       "      <th>map@75</th>\n",
       "      <th>map@50:95</th>\n",
       "      <th>time, ms</th>\n",
       "    </tr>\n",
       "  </thead>\n",
       "  <tbody>\n",
       "    <tr>\n",
       "      <th>yolov8-m</th>\n",
       "      <td>0.9821</td>\n",
       "      <td>0.8765</td>\n",
       "      <td>0.6850</td>\n",
       "      <td>20.2</td>\n",
       "    </tr>\n",
       "    <tr>\n",
       "      <th>yolov8-n</th>\n",
       "      <td>0.9826</td>\n",
       "      <td>0.8365</td>\n",
       "      <td>0.6537</td>\n",
       "      <td>3.1</td>\n",
       "    </tr>\n",
       "    <tr>\n",
       "      <th>yolov8-l</th>\n",
       "      <td>0.9857</td>\n",
       "      <td>0.8786</td>\n",
       "      <td>0.7048</td>\n",
       "      <td>28.1</td>\n",
       "    </tr>\n",
       "    <tr>\n",
       "      <th>yolov5-m</th>\n",
       "      <td>0.8213</td>\n",
       "      <td>0.7131</td>\n",
       "      <td>0.6306</td>\n",
       "      <td>9.9</td>\n",
       "    </tr>\n",
       "    <tr>\n",
       "      <th>yolov5-n</th>\n",
       "      <td>0.7966</td>\n",
       "      <td>0.6834</td>\n",
       "      <td>0.6019</td>\n",
       "      <td>7.5</td>\n",
       "    </tr>\n",
       "    <tr>\n",
       "      <th>yolov5-l</th>\n",
       "      <td>0.8301</td>\n",
       "      <td>0.7262</td>\n",
       "      <td>0.6893</td>\n",
       "      <td>15.9</td>\n",
       "    </tr>\n",
       "    <tr>\n",
       "      <th>yolov8-l-tensorrt</th>\n",
       "      <td>0.9826</td>\n",
       "      <td>0.8759</td>\n",
       "      <td>0.7023</td>\n",
       "      <td>6.3</td>\n",
       "    </tr>\n",
       "  </tbody>\n",
       "</table>\n",
       "</div>"
      ],
      "text/plain": [
       "                   map@50  map@75  map@50:95  time, ms\n",
       "yolov8-m           0.9821  0.8765     0.6850      20.2\n",
       "yolov8-n           0.9826  0.8365     0.6537       3.1\n",
       "yolov8-l           0.9857  0.8786     0.7048      28.1\n",
       "yolov5-m           0.8213  0.7131     0.6306       9.9\n",
       "yolov5-n           0.7966  0.6834     0.6019       7.5\n",
       "yolov5-l           0.8301  0.7262     0.6893      15.9\n",
       "yolov8-l-tensorrt  0.9826  0.8759     0.7023       6.3"
      ]
     },
     "execution_count": 3,
     "metadata": {},
     "output_type": "execute_result"
    }
   ],
   "source": [
    "import pandas as pd\n",
    "\n",
    "index = [\"yolov8-m\", \"yolov8-n\", \"yolov8-l\", \"yolov5-m\", \"yolov5-n\", \"yolov5-l\", \"yolov8-l-tensorrt\"]\n",
    "final_metrics = pd.DataFrame({\n",
    "    \"map@50\": [0.9821, 0.9826, 0.9857, 0.8213, 0.7966, 0.8301, 0.9826],\n",
    "    \"map@75\": [0.8765, 0.8365, 0.8786, 0.7131, 0.6834, 0.7262, 0.8759],\n",
    "    \"map@50:95\": [0.6850, 0.6537, 0.7048, 0.6306, 0.6019, 0.6893, 0.7023],\n",
    "    \"time, ms\": [20.2, 3.1, 28.1, 9.9, 7.5, 15.9, 6.3]\n",
    "}, index=index)\n",
    "\n",
    "final_metrics"
   ]
  },
  {
   "cell_type": "markdown",
   "metadata": {},
   "source": [
    "### ONNX -> TensorRT + Quantization"
   ]
  },
  {
   "cell_type": "code",
   "execution_count": 2,
   "metadata": {},
   "outputs": [
    {
     "name": "stdout",
     "output_type": "stream",
     "text": [
      "Model summary (fused): 268 layers, 43607379 parameters, 0 gradients, 164.8 GFLOPs\n",
      "\n",
      "\u001b[34m\u001b[1mPyTorch:\u001b[0m starting from 'yolov8l-face.pt' with input shape (16, 3, 640, 640) BCHW and output shape(s) (16, 5, 8400) (83.6 MB)\n",
      "\n",
      "\u001b[34m\u001b[1mONNX:\u001b[0m starting export with onnx 1.16.0 opset 17...\n",
      "\u001b[34m\u001b[1mONNX:\u001b[0m simplifying with onnxsim 0.4.36...\n",
      "\u001b[34m\u001b[1mONNX:\u001b[0m export success  22.5s, saved as 'yolov8l-face.onnx' (166.5 MB)\n",
      "\n",
      "\u001b[34m\u001b[1mTensorRT:\u001b[0m starting export with TensorRT 10.0.1...\n",
      "\u001b[34m\u001b[1mTensorRT:\u001b[0m input \"images\" with shape(-1, 3, -1, -1) DataType.FLOAT\n",
      "\u001b[34m\u001b[1mTensorRT:\u001b[0m output \"output0\" with shape(-1, 5, -1) DataType.FLOAT\n",
      "\u001b[34m\u001b[1mTensorRT:\u001b[0m building FP16 engine as yolov8l-face.engine\n",
      "\u001b[34m\u001b[1mTensorRT:\u001b[0m export success  964.0s, saved as 'yolov8l-face.engine' (85.7 MB)\n",
      "\n",
      "Export complete (968.4s)\n",
      "Results saved to \u001b[1mD:\\diploma\\notebooks\u001b[0m\n",
      "Predict:         yolo predict task=detect model=yolov8l-face.engine imgsz=640 half \n",
      "Validate:        yolo val task=detect model=yolov8l-face.engine imgsz=640 data=cfg/datasets/WiderFace.yaml half \n",
      "Visualize:       https://netron.app\n"
     ]
    },
    {
     "data": {
      "text/plain": [
       "'yolov8l-face.engine'"
      ]
     },
     "execution_count": 2,
     "metadata": {},
     "output_type": "execute_result"
    }
   ],
   "source": [
    "model = YOLO(\"yolov8l-face.pt\")\n",
    "model = model.to(\"cuda\")\n",
    "model.export(format=\"engine\", batch=16, imgsz=640, dynamic=True, verbose=False, half=True)"
   ]
  },
  {
   "cell_type": "code",
   "execution_count": null,
   "metadata": {},
   "outputs": [],
   "source": []
  }
 ],
 "metadata": {
  "kernelspec": {
   "display_name": "diploma_emotions",
   "language": "python",
   "name": "python3"
  },
  "language_info": {
   "codemirror_mode": {
    "name": "ipython",
    "version": 3
   },
   "file_extension": ".py",
   "mimetype": "text/x-python",
   "name": "python",
   "nbconvert_exporter": "python",
   "pygments_lexer": "ipython3",
   "version": "3.9.19"
  }
 },
 "nbformat": 4,
 "nbformat_minor": 2
}
