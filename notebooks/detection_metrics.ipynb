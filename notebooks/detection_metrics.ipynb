{
 "cells": [
  {
   "cell_type": "code",
   "execution_count": null,
   "metadata": {},
   "outputs": [],
   "source": [
    "!pip install roboflow"
   ]
  },
  {
   "cell_type": "code",
   "execution_count": 1,
   "metadata": {},
   "outputs": [],
   "source": [
    "import torch\n",
    "from ultralytics import YOLO"
   ]
  },
  {
   "cell_type": "code",
   "execution_count": null,
   "metadata": {},
   "outputs": [],
   "source": [
    "from roboflow import Roboflow\n",
    "rf = Roboflow(api_key=\"s3h3QivGiiyTS3XN7Hib\")\n",
    "project = rf.workspace(\"project-ehjby\").project(\"faces-detection-uolqa\")\n",
    "version = project.version(2)\n",
    "dataset = version.download(\"yolov8\")"
   ]
  },
  {
   "cell_type": "code",
   "execution_count": null,
   "metadata": {},
   "outputs": [],
   "source": [
    "weights = [\n",
    "    \"yolov8m-face.pt\",\n",
    "    \"yolov8n-face.pt\",\n",
    "    \"yolov8l-face.pt\",\n",
    "    \"yolov5m-face.pt\",\n",
    "    \"yolov5n-face.pt\",\n",
    "    \"yolov5l-face.pt\",\n",
    "]\n",
    "\n",
    "for weight in weights:\n",
    "    detection_model = YOLO(weight)\n",
    "    detection_model = detection_model.to(\"cuda\")\n",
    "\n",
    "    metrics = detection_model.val(data=\"Faces-Detection-2/data.yaml\")\n",
    "    print(metrics.box.map50)\n",
    "    print(metrics.box.map75)\n",
    "    print(metrics.box.map)"
   ]
  },
  {
   "cell_type": "code",
   "execution_count": 12,
   "metadata": {},
   "outputs": [
    {
     "data": {
      "text/plain": [
       "(0.9856793261798135, 0.8364813297963953, 0.6537393275038478)"
      ]
     },
     "execution_count": 12,
     "metadata": {},
     "output_type": "execute_result"
    }
   ],
   "source": [
    "metrics.box.map50, metrics.box.map75, metrics.box.map"
   ]
  },
  {
   "cell_type": "code",
   "execution_count": 22,
   "metadata": {},
   "outputs": [
    {
     "data": {
      "text/html": [
       "<div>\n",
       "<style scoped>\n",
       "    .dataframe tbody tr th:only-of-type {\n",
       "        vertical-align: middle;\n",
       "    }\n",
       "\n",
       "    .dataframe tbody tr th {\n",
       "        vertical-align: top;\n",
       "    }\n",
       "\n",
       "    .dataframe thead th {\n",
       "        text-align: right;\n",
       "    }\n",
       "</style>\n",
       "<table border=\"1\" class=\"dataframe\">\n",
       "  <thead>\n",
       "    <tr style=\"text-align: right;\">\n",
       "      <th></th>\n",
       "      <th>map@50</th>\n",
       "      <th>map@75</th>\n",
       "      <th>map@50:95</th>\n",
       "      <th>time, ms</th>\n",
       "    </tr>\n",
       "  </thead>\n",
       "  <tbody>\n",
       "    <tr>\n",
       "      <th>yolov8-m</th>\n",
       "      <td>0.9821</td>\n",
       "      <td>0.8765</td>\n",
       "      <td>0.6850</td>\n",
       "      <td>20.2</td>\n",
       "    </tr>\n",
       "    <tr>\n",
       "      <th>yolov8-n</th>\n",
       "      <td>0.9826</td>\n",
       "      <td>0.8365</td>\n",
       "      <td>0.6537</td>\n",
       "      <td>3.1</td>\n",
       "    </tr>\n",
       "    <tr>\n",
       "      <th>yolov8-l</th>\n",
       "      <td>0.9857</td>\n",
       "      <td>0.8786</td>\n",
       "      <td>0.7048</td>\n",
       "      <td>28.1</td>\n",
       "    </tr>\n",
       "    <tr>\n",
       "      <th>yolov5-m</th>\n",
       "      <td>0.8213</td>\n",
       "      <td>0.7131</td>\n",
       "      <td>0.6306</td>\n",
       "      <td>9.9</td>\n",
       "    </tr>\n",
       "    <tr>\n",
       "      <th>yolov5-n</th>\n",
       "      <td>0.7966</td>\n",
       "      <td>0.6834</td>\n",
       "      <td>0.6019</td>\n",
       "      <td>7.5</td>\n",
       "    </tr>\n",
       "    <tr>\n",
       "      <th>yolov5-l</th>\n",
       "      <td>0.8301</td>\n",
       "      <td>0.7262</td>\n",
       "      <td>0.6893</td>\n",
       "      <td>15.9</td>\n",
       "    </tr>\n",
       "  </tbody>\n",
       "</table>\n",
       "</div>"
      ],
      "text/plain": [
       "          map@50  map@75  map@50:95  time, ms\n",
       "yolov8-m  0.9821  0.8765     0.6850      20.2\n",
       "yolov8-n  0.9826  0.8365     0.6537       3.1\n",
       "yolov8-l  0.9857  0.8786     0.7048      28.1\n",
       "yolov5-m  0.8213  0.7131     0.6306       9.9\n",
       "yolov5-n  0.7966  0.6834     0.6019       7.5\n",
       "yolov5-l  0.8301  0.7262     0.6893      15.9"
      ]
     },
     "execution_count": 22,
     "metadata": {},
     "output_type": "execute_result"
    }
   ],
   "source": [
    "import pandas as pd\n",
    "\n",
    "index = [\"yolov8-m\", \"yolov8-n\", \"yolov8-l\", \"yolov5-m\", \"yolov5-n\", \"yolov5-l\"]\n",
    "final_metrics = pd.DataFrame({\n",
    "    \"map@50\": [0.9821, 0.9826, 0.9857, 0.8213, 0.7966, 0.8301],\n",
    "    \"map@75\": [0.8765, 0.8365, 0.8786, 0.7131, 0.6834, 0.7262],\n",
    "    \"map@50:95\": [0.6850, 0.6537, 0.7048, 0.6306, 0.6019, 0.6893],\n",
    "    \"time, ms\": [20.2, 3.1, 28.1, 9.9, 7.5, 15.9]\n",
    "}, index=index)\n",
    "\n",
    "final_metrics"
   ]
  },
  {
   "cell_type": "code",
   "execution_count": null,
   "metadata": {},
   "outputs": [],
   "source": []
  }
 ],
 "metadata": {
  "kernelspec": {
   "display_name": "diploma_emotions",
   "language": "python",
   "name": "python3"
  },
  "language_info": {
   "codemirror_mode": {
    "name": "ipython",
    "version": 3
   },
   "file_extension": ".py",
   "mimetype": "text/x-python",
   "name": "python",
   "nbconvert_exporter": "python",
   "pygments_lexer": "ipython3",
   "version": "3.9.19"
  }
 },
 "nbformat": 4,
 "nbformat_minor": 2
}
